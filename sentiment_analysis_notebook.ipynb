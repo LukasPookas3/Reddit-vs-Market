{
 "cells": [
  {
   "cell_type": "markdown",
   "metadata": {},
   "source": [
    "# Carrying out analysis on texts on the topic of depression and the emotions felt\n",
    "\n",
    "The XED dataset (https://github.com/Helsinki-NLP/XED) was used to train the emotion classifier. The emotion classifier was trained and sourced from an app example of \"Multilingual Sentiment Analysis\" on Cohere's website (https://docs.cohere.com/page/multilingual-sentiment-analysis).\n",
    "\n",
    "A little bit about the XED dataset:\n",
    "The XED dataset consists of annotated movie subtitles. The annotations consists of these emotions: anger, anticipation, disgust, fear, joy, sadness, surprise, and trust. The topics of sentences vary. Sentence length distribution is:\n",
    "- 1-31 words: 41.9%\n",
    "- 31-61 words: 42.2%\n",
    "- 61-91 words: 11.9%\n",
    "\n",
    "Initially, I explored a dataset of tweets. Tweets initiate conversation and it's max character length of 280 allowed a max word count of roughly between 40 - 70 words. This made it somewhat similar to the XED dataset. The dataset I used (https://www.kaggle.com/datasets/gargmanas/sentimental-analysis-for-tweets/data) was labelled with a keyword search.\n",
    "\n",
    "Here, we are importing all the modules we need as well as loading a dataset of tweets into a dataframe."
   ]
  },
  {
   "cell_type": "code",
   "execution_count": 3,
   "metadata": {},
   "outputs": [],
   "source": [
    "import pandas as pd\n",
    "import cohere\n",
    "import torch\n",
    "import pickle\n",
    "import sklearn\n",
    "import numpy\n",
    "pd.set_option('display.max_colwidth', None)\n",
    "\n",
    "# Load the reddit and stock data into a dataframe\n",
    "df = pd.read_csv(\"data/sentiment_tweets3.csv\")"
   ]
  },
  {
   "cell_type": "markdown",
   "metadata": {},
   "source": [
    "## Exploring the Twitter dataset"
   ]
  },
  {
   "cell_type": "code",
   "execution_count": 4,
   "metadata": {},
   "outputs": [
    {
     "data": {
      "text/html": [
       "<div>\n",
       "<style scoped>\n",
       "    .dataframe tbody tr th:only-of-type {\n",
       "        vertical-align: middle;\n",
       "    }\n",
       "\n",
       "    .dataframe tbody tr th {\n",
       "        vertical-align: top;\n",
       "    }\n",
       "\n",
       "    .dataframe thead th {\n",
       "        text-align: right;\n",
       "    }\n",
       "</style>\n",
       "<table border=\"1\" class=\"dataframe\">\n",
       "  <thead>\n",
       "    <tr style=\"text-align: right;\">\n",
       "      <th></th>\n",
       "      <th>Index</th>\n",
       "      <th>message to examine</th>\n",
       "      <th>label (depression result)</th>\n",
       "    </tr>\n",
       "  </thead>\n",
       "  <tbody>\n",
       "    <tr>\n",
       "      <th>0</th>\n",
       "      <td>106</td>\n",
       "      <td>just had a real good moment. i missssssssss him so much,</td>\n",
       "      <td>0</td>\n",
       "    </tr>\n",
       "    <tr>\n",
       "      <th>1</th>\n",
       "      <td>217</td>\n",
       "      <td>is reading manga  http://plurk.com/p/mzp1e</td>\n",
       "      <td>0</td>\n",
       "    </tr>\n",
       "    <tr>\n",
       "      <th>2</th>\n",
       "      <td>220</td>\n",
       "      <td>@comeagainjen http://twitpic.com/2y2lx - http://www.youtube.com/watch?v=zoGfqvh2ME8</td>\n",
       "      <td>0</td>\n",
       "    </tr>\n",
       "    <tr>\n",
       "      <th>3</th>\n",
       "      <td>288</td>\n",
       "      <td>@lapcat Need to send 'em to my accountant tomorrow. Oddly, I wasn't even referring to my taxes. Those are supporting evidence, though.</td>\n",
       "      <td>0</td>\n",
       "    </tr>\n",
       "    <tr>\n",
       "      <th>4</th>\n",
       "      <td>540</td>\n",
       "      <td>ADD ME ON MYSPACE!!!  myspace.com/LookThunder</td>\n",
       "      <td>0</td>\n",
       "    </tr>\n",
       "  </tbody>\n",
       "</table>\n",
       "</div>"
      ],
      "text/plain": [
       "   Index  \\\n",
       "0    106   \n",
       "1    217   \n",
       "2    220   \n",
       "3    288   \n",
       "4    540   \n",
       "\n",
       "                                                                                                                        message to examine  \\\n",
       "0                                                                                just had a real good moment. i missssssssss him so much,    \n",
       "1                                                                                               is reading manga  http://plurk.com/p/mzp1e   \n",
       "2                                                     @comeagainjen http://twitpic.com/2y2lx - http://www.youtube.com/watch?v=zoGfqvh2ME8    \n",
       "3  @lapcat Need to send 'em to my accountant tomorrow. Oddly, I wasn't even referring to my taxes. Those are supporting evidence, though.    \n",
       "4                                                                                            ADD ME ON MYSPACE!!!  myspace.com/LookThunder   \n",
       "\n",
       "   label (depression result)  \n",
       "0                          0  \n",
       "1                          0  \n",
       "2                          0  \n",
       "3                          0  \n",
       "4                          0  "
      ]
     },
     "execution_count": 4,
     "metadata": {},
     "output_type": "execute_result"
    }
   ],
   "source": [
    "# Top 5 rows of the dataset. There doesn't seem to be an order to the dataset\n",
    "df.head()"
   ]
  },
  {
   "cell_type": "code",
   "execution_count": 5,
   "metadata": {},
   "outputs": [
    {
     "name": "stdout",
     "output_type": "stream",
     "text": [
      "<class 'pandas.core.frame.DataFrame'>\n",
      "RangeIndex: 10314 entries, 0 to 10313\n",
      "Data columns (total 3 columns):\n",
      " #   Column                     Non-Null Count  Dtype \n",
      "---  ------                     --------------  ----- \n",
      " 0   Index                      10314 non-null  int64 \n",
      " 1   message to examine         10314 non-null  object\n",
      " 2   label (depression result)  10314 non-null  int64 \n",
      "dtypes: int64(2), object(1)\n",
      "memory usage: 241.9+ KB\n"
     ]
    }
   ],
   "source": [
    "# Nothing out of the ordinary\n",
    "df.info()"
   ]
  },
  {
   "cell_type": "code",
   "execution_count": 8,
   "metadata": {},
   "outputs": [
    {
     "data": {
      "text/plain": [
       "Index   message to examine                                                                                                                                                                                                                                                                                                        label (depression result)\n",
       "800000  The lack of this understanding is a small but significant part of what causes anxiety & depression to both feel so incredibly lonely. It's soooo easy to compare. It's so easy to invalidate ourselves because of that.                                                                                                   1                            1\n",
       "801590  I've got a black eye of a soulMorals in a hole Wish I was still dead But the tv said it's just a tropical depression                                                                                                                                                                                                      1                            1\n",
       "801538  In Heb. 12:15, the Bible warns us to beware,\" \"\"...lest any root of bitterness springing up trouble you\",\" and thereby many be defiled;\"\" #Bitterness can lead to depression\", sexual sin, and others' corruption. But the #Bible gives us the cure for bitterness:  https://bit.ly/2HtEzlBÂ  pic.twitter.com/iGTdUaOJPM  1                            1\n",
       "801539  Caffeine is the philosopher's stone which transmutes depression into anxiety.                                                                                                                                                                                                                                             1                            1\n",
       "801540  Comic strip representations of challenges Floridians faced during the Great Depression. A way toâ¦  https://www.instagram.com/p/Bh_yHvCn1-G/Â                                                                                                                                                                            1                            1\n",
       "                                                                                                                                                                                                                                                                                                                                                              ..\n",
       "800772  Mom's depression tied to kids' emotional, intellectual development  https://ift.tt/2HtVZCEÂ                                                                                                                                                                                                                               1                            1\n",
       "800773  Mom's depression tied to kids' emotional, intellectual development  https://ift.tt/2HtVZCEÂ                                                                                                                                                                                                                               1                            1\n",
       "800774  Some of us allow depression with life decisions...                                                                                                                                                                                                                                                                        1                            1\n",
       "800775  Mom's depression tied to kids' emotional, intellectual development  http://www.reuters.com/article/us-health-mothers-depression/moms-depression-tied-to-kids-emotional-intellectual-development-idUSKBN1HW2MZ?feedType=RSS&feedName=healthNewsÂ â¦                                                                       1                            1\n",
       "802313  0                                                                                                                                                                                                                                                                                                                         1                            1\n",
       "Name: count, Length: 2314, dtype: int64"
      ]
     },
     "execution_count": 8,
     "metadata": {},
     "output_type": "execute_result"
    }
   ],
   "source": [
    "# 2314 rows where text is labelled as depression\n",
    "df[df[\"label (depression result)\"]==1].value_counts()"
   ]
  },
  {
   "cell_type": "code",
   "execution_count": 9,
   "metadata": {},
   "outputs": [
    {
     "data": {
      "text/html": [
       "<div>\n",
       "<style scoped>\n",
       "    .dataframe tbody tr th:only-of-type {\n",
       "        vertical-align: middle;\n",
       "    }\n",
       "\n",
       "    .dataframe tbody tr th {\n",
       "        vertical-align: top;\n",
       "    }\n",
       "\n",
       "    .dataframe thead th {\n",
       "        text-align: right;\n",
       "    }\n",
       "</style>\n",
       "<table border=\"1\" class=\"dataframe\">\n",
       "  <thead>\n",
       "    <tr style=\"text-align: right;\">\n",
       "      <th></th>\n",
       "      <th>Index</th>\n",
       "      <th>message to examine</th>\n",
       "      <th>label (depression result)</th>\n",
       "    </tr>\n",
       "  </thead>\n",
       "  <tbody>\n",
       "    <tr>\n",
       "      <th>9167</th>\n",
       "      <td>801167</td>\n",
       "      <td>@awg_allan @TelegramSam100 I'll agree to disagree. Solving the self-esteem and depression issue stops him from ever getting to the murderous obsession (imo).</td>\n",
       "      <td>1</td>\n",
       "    </tr>\n",
       "    <tr>\n",
       "      <th>8064</th>\n",
       "      <td>800064</td>\n",
       "      <td>Depression and No tears left to cry snatched me bold  pic.twitter.com/Fxw7YgNmwY</td>\n",
       "      <td>1</td>\n",
       "    </tr>\n",
       "    <tr>\n",
       "      <th>9237</th>\n",
       "      <td>801237</td>\n",
       "      <td>For some people, psychiatric diagnosis is helpful, and the problem is that it was not given early enough. For others, a diagnosis is deeply oppressive. What's your experience?  http://bit.ly/2JmldiAÂ #Psychiatry #MentalIllness #Schizophrenia #Depression #Borderline #OCD</td>\n",
       "      <td>1</td>\n",
       "    </tr>\n",
       "    <tr>\n",
       "      <th>10068</th>\n",
       "      <td>802068</td>\n",
       "      <td>It's a cliche, but I hope you'll start a nuclear war to cure your depression</td>\n",
       "      <td>1</td>\n",
       "    </tr>\n",
       "    <tr>\n",
       "      <th>9396</th>\n",
       "      <td>801396</td>\n",
       "      <td>@asymmetricinfo @ThePlumLineGS It is almost the definition of anti-capitalist. No, that doesn't mean that it can't be considered as a short term sunsetting fix for a depression. So why would we discuss it now?</td>\n",
       "      <td>1</td>\n",
       "    </tr>\n",
       "    <tr>\n",
       "      <th>9759</th>\n",
       "      <td>801759</td>\n",
       "      <td>The weather outside today is what depression looks like.</td>\n",
       "      <td>1</td>\n",
       "    </tr>\n",
       "    <tr>\n",
       "      <th>8195</th>\n",
       "      <td>800195</td>\n",
       "      <td>Who wants to see me sing! Created for Stand-Up When, I present Crash! The Musical!, a multi-media number set in the great-depression right after the stock market crash of 1929. It's depression-tastic!  pic.twitter.com/nEXTt0G5VZ</td>\n",
       "      <td>1</td>\n",
       "    </tr>\n",
       "    <tr>\n",
       "      <th>10220</th>\n",
       "      <td>802220</td>\n",
       "      <td>Today's a day where my depression  is  just a huge thing over my head</td>\n",
       "      <td>1</td>\n",
       "    </tr>\n",
       "    <tr>\n",
       "      <th>10305</th>\n",
       "      <td>802305</td>\n",
       "      <td>RT Depression Could Be Improved With Vitamin D Deficiency Treatment &lt;Emoji: Rightwards arrow&gt;  http://aboutdepressionfacts.com/4wxuÂ   pic.twitter.com/QGgbqPZUMR #health #well</td>\n",
       "      <td>1</td>\n",
       "    </tr>\n",
       "    <tr>\n",
       "      <th>8465</th>\n",
       "      <td>800465</td>\n",
       "      <td>@JustGiving I've #justdonated to develop a charity to further the understanding and treatment of anxiety and depression in young people so that other lives may be saved.. Donate on @justgiving and help raise Â£10000 https://www.justgiving.com/crowdfunding/youngpeoplesmentalhealth?utm_source=twitter&amp;utm_medium=socpledgedesktop&amp;utm_content=youngpeoplesmentalhealth&amp;utm_campaign=post-pledge-desktop&amp;utm_term=qveqXZaEyÂ â¦</td>\n",
       "      <td>1</td>\n",
       "    </tr>\n",
       "  </tbody>\n",
       "</table>\n",
       "</div>"
      ],
      "text/plain": [
       "        Index  \\\n",
       "9167   801167   \n",
       "8064   800064   \n",
       "9237   801237   \n",
       "10068  802068   \n",
       "9396   801396   \n",
       "9759   801759   \n",
       "8195   800195   \n",
       "10220  802220   \n",
       "10305  802305   \n",
       "8465   800465   \n",
       "\n",
       "                                                                                                                                                                                                                                                                                                                                                                                                                          message to examine  \\\n",
       "9167                                                                                                                                                                                                                                                                           @awg_allan @TelegramSam100 I'll agree to disagree. Solving the self-esteem and depression issue stops him from ever getting to the murderous obsession (imo).   \n",
       "8064                                                                                                                                                                                                                                                                                                                                                        Depression and No tears left to cry snatched me bold  pic.twitter.com/Fxw7YgNmwY   \n",
       "9237                                                                                                                                                          For some people, psychiatric diagnosis is helpful, and the problem is that it was not given early enough. For others, a diagnosis is deeply oppressive. What's your experience?  http://bit.ly/2JmldiAÂ #Psychiatry #MentalIllness #Schizophrenia #Depression #Borderline #OCD   \n",
       "10068                                                                                                                                                                                                                                                                                                                                                           It's a cliche, but I hope you'll start a nuclear war to cure your depression   \n",
       "9396                                                                                                                                                                                                                       @asymmetricinfo @ThePlumLineGS It is almost the definition of anti-capitalist. No, that doesn't mean that it can't be considered as a short term sunsetting fix for a depression. So why would we discuss it now?   \n",
       "9759                                                                                                                                                                                                                                                                                                                                                                                The weather outside today is what depression looks like.   \n",
       "8195                                                                                                                                                                                                    Who wants to see me sing! Created for Stand-Up When, I present Crash! The Musical!, a multi-media number set in the great-depression right after the stock market crash of 1929. It's depression-tastic!  pic.twitter.com/nEXTt0G5VZ   \n",
       "10220                                                                                                                                                                                                                                                                                                                                                                  Today's a day where my depression  is  just a huge thing over my head   \n",
       "10305                                                                                                                                                                                                                                                        RT Depression Could Be Improved With Vitamin D Deficiency Treatment <Emoji: Rightwards arrow>  http://aboutdepressionfacts.com/4wxuÂ   pic.twitter.com/QGgbqPZUMR #health #well   \n",
       "8465   @JustGiving I've #justdonated to develop a charity to further the understanding and treatment of anxiety and depression in young people so that other lives may be saved.. Donate on @justgiving and help raise Â£10000 https://www.justgiving.com/crowdfunding/youngpeoplesmentalhealth?utm_source=twitter&utm_medium=socpledgedesktop&utm_content=youngpeoplesmentalhealth&utm_campaign=post-pledge-desktop&utm_term=qveqXZaEyÂ â¦   \n",
       "\n",
       "       label (depression result)  \n",
       "9167                           1  \n",
       "8064                           1  \n",
       "9237                           1  \n",
       "10068                          1  \n",
       "9396                           1  \n",
       "9759                           1  \n",
       "8195                           1  \n",
       "10220                          1  \n",
       "10305                          1  \n",
       "8465                           1  "
      ]
     },
     "execution_count": 9,
     "metadata": {},
     "output_type": "execute_result"
    }
   ],
   "source": [
    "# A sample of tweets labelled as depression\n",
    "dep_rows = df[df[\"label (depression result)\"]==1]\n",
    "dep_rows.sample(10)"
   ]
  },
  {
   "cell_type": "markdown",
   "metadata": {},
   "source": [
    "I came to the conclusion that a dataset consisting of tweets is not a great dataset to use in this scenario, given tweets tend to consist of news and other topics unrelated to conversation or thoughts. Sometimes people tweet about other people's thoughts.\n",
    "\n",
    "An example is the second last row. It seems to be a link to an article about treatment for depression. This could also be due to the keyword search not being the best method for labelling. The source of our data is incredibly important for an issue that is talked a lot about on social media.\n",
    "\n",
    "Instead of taking comments or tweets, I looked at Reddit post titles. Post titles are basically summaries of the post. Below, I start exploring a dataset collected from various Reddit forums focused on depression-related topics (https://www.kaggle.com/datasets/diegosilvadefrana/depression-dataset). Reddit post titles focused on depression-related topics tend to be posts looking for support, conversation or a connection with others who may be experiencing similar struggles. Hence, by looking at post titles and carrying out sentiment analysis, we can aim to understand people struggling with depression better by understanding their emotions."
   ]
  },
  {
   "cell_type": "markdown",
   "metadata": {},
   "source": [
    "## Exploring the Reddit dataset"
   ]
  },
  {
   "cell_type": "code",
   "execution_count": 4,
   "metadata": {},
   "outputs": [
    {
     "data": {
      "text/html": [
       "<div>\n",
       "<style scoped>\n",
       "    .dataframe tbody tr th:only-of-type {\n",
       "        vertical-align: middle;\n",
       "    }\n",
       "\n",
       "    .dataframe tbody tr th {\n",
       "        vertical-align: top;\n",
       "    }\n",
       "\n",
       "    .dataframe thead th {\n",
       "        text-align: right;\n",
       "    }\n",
       "</style>\n",
       "<table border=\"1\" class=\"dataframe\">\n",
       "  <thead>\n",
       "    <tr style=\"text-align: right;\">\n",
       "      <th></th>\n",
       "      <th>title</th>\n",
       "      <th>content</th>\n",
       "      <th>score</th>\n",
       "    </tr>\n",
       "  </thead>\n",
       "  <tbody>\n",
       "    <tr>\n",
       "      <th>0</th>\n",
       "      <td>Regular check-in post, with information about our rules and wikis</td>\n",
       "      <td>Welcome to /r/depression's check-in post - a place to take a moment and share what is going on and how you are doing. If you have an accomplishment you want to talk about (these shouldn't be standalone posts in the sub as they violate the \"role model\" rule, but are welcome here), or are having a tough time but prefer not to make your own post, this is a place you can share.\\n\\n-----\\n\\nOur subreddit rules are located in the sidebar (you can also always access them at https://www.reddit.com/r/depression/about/rules) - since all of them exist for important safety reasons, we ask everyone here to read and follow them. Please click 'report' on any harmful content you see here - we always want to know and deal as soon as we can.\\n\\nWe also have several wikis there for help with finding and giving support:\\n\\nhttps://www.reddit.com/r/depression/wiki/what_is_depression provides guidance about what is and isn't a depressive disorder, guidance on the complex nature of the illnesses that are usually grouped under the \"depression\" label, and redirect information for common off-topic issues.\\n\\nhttps://www.reddit.com/r/depression/wiki/giving_help offers information on the nature and value of peer support for mental-health issues in general, and lots of guidance for learning what is -- and isn't -- usually helpful in giving peer support.\\n\\nYSK that the types of rule violations that we most frequently see interfering with people getting safe and relevant support here are:\\n\\n- People breaking the private contact rule. You should never trust anyone who tries to get you into a private conversation in response to a post here. See https://www.reddit.com/r/depression/wiki/private_contact\\n\\n- \"I'm here to help\" posts. This shows that you don't understand the most basic principles of peer support, especially selectivity. The \"giving help\" wiki explains more about this.\\n\\n- Role modelling, i.e. \"achievement\" or \"advice\" posts. This is an expert-free zone -- that's what peer support means (rule 5). We know that \"internet culture\" celebrate not just bragging about your achievements but bragging about your good intentions. Nothing like that is ever acceptable here.\\n\\n- Content that's more about 'making a statement' or casually polling the sub than seeking personal support (or, in a comment, giving it) (rules 1, 2 and 10).\\n\\n- Off-topic posts about difficult situations or circumstances, including interpersonal losses. Grief, sadness, anger, and other difficult emotions are not mental illnesses. The \"what is depression\" wiki has suggestions for other places to post about these issues, which are 100% valid and serious but inappropriate here.</td>\n",
       "      <td>115</td>\n",
       "    </tr>\n",
       "    <tr>\n",
       "      <th>1</th>\n",
       "      <td>Our most-broken and least-understood rules is \"helpers may not invite private contact as a first resort\", so we've made a new wiki to explain it</td>\n",
       "      <td>We understand that most people who reply immediately to an OP with an invitation to talk privately  mean only to help, but this type of response usually leads to either disappointment or disaster.  it usually works out quite differently here than when you say \"PM me anytime\" in a casual social context.  \\n\\nWe have huge admiration and appreciation for the goodwill and good citizenship of so many of you who support others here and flag inappropriate content - even more so because we know that so many of you are struggling yourselves.  We're hard at work behind the scenes on more information and resources to make it easier to give and get quality help here - this is just a small start.  \\n\\nOur new wiki page explains in detail why it's much better to respond in public comments, at least until you've gotten to know someone.  It will be maintained at /r/depression/wiki/private_contact, and the full text of the current version is below.\\n\\n*****\\n\\n###Summary###\\n\\n**Anyone who, while acting as a helper, invites or accepts private contact (I.e. PMs, chat, or any kind of offsite communication) early in the conversion is showing either bad intentions or bad judgement.  Either way, it's unwise to trust them.** \\n\\n\\n\"PM me anytime\" seems like a kind and generous offer. And it might be perfectly well-meaning, but, unless and until a solid rapport has been established, it's just not a wise idea.  Here are some points to consider before you offer or accept an invitation to communicate privately.\\n\\n* **By posting supportive replies publicly, you'll help more people than just the OP. If your responses are of good quality, you'll educate and inspire other helpers.** [The 1-9-90 rule](https://en.wikipedia.org/wiki/1%25_rule_(Internet_culture\\)) applies here as much as it does anywhere else on the internet.  \\n\\n* People who are struggling with serious mental-health issues often (justifiably) have a low tolerance for disappointment and a high-level of ever-changing emotional need. **Unless the helper is able to make a 100% commitment to be there for them in every way, for as long as necessary, offering a personal inbox as a resource is likely to do more harm than good.** This is why mental-health crisis-line responders usually don't give their names and callers aren't allowed to request specific responders.  It's much healthier and safer for the callers to develop a relationship with the agency as a whole.  Analogously, it's much safer and healthier for our OPs to develop a relationship with the community as a whole.  Even trained responders are generally not allowed to work high-intensity situations alone.  It's partly about availability, but it's mostly about wider perspective and preventing compassion fatigue. \\n\\n* **If a helper gets in over their head with someone whose mental-health issues (including suicidality, which is often comorbid with depression) escalate, in a PM conversation it's much harder for others, including the /r/depression and /r/SuicideWatch moderators to help**.  (Contrary to common assumptions, moderators can't see or police PMs.)  \\n\\n* In our observation over many years, the people who say \"PM me\" the most are consistently the ones with the least understanding of mental-health issues and mental-health support. We all have gaps in our knowledge and in our ability to communicate effectively.  Community input mitigates these limitations. **There's no reason why someone who's truly here to help would want to hide their responses from community scrutiny**.  If helpers are concerned about their own privacy, keep in mind that self-disclosure, when used supportively, is more about the feelings than the details, and that we have no problem here with the use of alt/throwaway accounts, and have no restrictions on account age or karma.  \\n\\n*  We all know the internet is used by some people to exploit or abuse others.  These people *do* want to hide their deceptive and manipulative responses from everyone except their victims. There are many of them who specifically target those who are vulnerable because of mental-health issues. **If a helper invites an OP to talk privately and gives them a good, supportive experience, they've primed that person to be more vulnerable to abusers.** This sort of cognitive priming tends to be particularly effective when someone's in a state of mental-health crisis, when people rely more on heuristics than critical reasoning.\\n\\n* If OPs want to talk privately, posting on a wide-open anonymous forum like reddit might not be the best option. Although we don't recommend it, we do allow OPs to request private contact when asking for support. If you want to do this, please keep your expectations realistic, and to have a careful look at the history of anyone who offers to PM before opening up to them.</td>\n",
       "      <td>2365</td>\n",
       "    </tr>\n",
       "    <tr>\n",
       "      <th>2</th>\n",
       "      <td>Going back to college at 33 after 3 times of dropping out.</td>\n",
       "      <td>I've always wanted to go back to school, the cards never aligned. I had too many distractions or no transportation and grew fed up with the bus. This time I have my own car, I've been at my job for 2 years and they offer the flexibility to go back.\\n\\nI want to prove to myself that I can stick to it and not self sabotage. I ran into someone(and avoided like the plague) at disneyland and began to want change. It feels daunting but if I start with 2 classes I can work from there.</td>\n",
       "      <td>84</td>\n",
       "    </tr>\n",
       "    <tr>\n",
       "      <th>3</th>\n",
       "      <td>Crying alone all the time</td>\n",
       "      <td>All I wan is to be loved.  I just want someone to hug me and tell me  its gonna be ok. Just a little affection,  not too much. Instead I have nothing and noone.</td>\n",
       "      <td>108</td>\n",
       "    </tr>\n",
       "    <tr>\n",
       "      <th>4</th>\n",
       "      <td>I genuinely don’t think I’ll ever be able to handle all of the adult responsibilities I have.</td>\n",
       "      <td>I don’t even drive, didn’t finish my high school degree (can always get my GED though), can’t make it through college, can’t hold down a job. \\nI know this is gross but I can barely shower or brush my teeth. \\nWashing the dishes, cleaning the house, making my bed are almost impossible tasks. \\n\\nI’m so jealous of people that can do these things. I feel trapped and think of death often as the only way to escape this. \\nMaybe I should try therapy? \\nI don’t even know how to be an adult tbh. Like what is adulting? \\nI do want to be a nurse (or a PSW at first) in the future \\nI cannot leave my house unless I’m with my mom. I think this is due to bullying in school and now I just don’t want to be in the outside world.</td>\n",
       "      <td>60</td>\n",
       "    </tr>\n",
       "  </tbody>\n",
       "</table>\n",
       "</div>"
      ],
      "text/plain": [
       "                                                                                                                                              title  \\\n",
       "0                                                                                 Regular check-in post, with information about our rules and wikis   \n",
       "1  Our most-broken and least-understood rules is \"helpers may not invite private contact as a first resort\", so we've made a new wiki to explain it   \n",
       "2                                                                                        Going back to college at 33 after 3 times of dropping out.   \n",
       "3                                                                                                                         Crying alone all the time   \n",
       "4                                                     I genuinely don’t think I’ll ever be able to handle all of the adult responsibilities I have.   \n",
       "\n",
       "                                                                                                                                                                                                                                                                                                                                                                                                                                                                                                                                                                                                                                                                                                                                                                                                                                                                                                                                                                                                                                                                                                                                                                                                                                                                                                                                                                                                                                                                                                                                                                                                                                                                                                                                                                                                                                                                                                                                                                                                                                                                                                                                                                                                                                                                                                                                                                                                                                                                                                                                                                                                                                                                                                                                                                                                                                                                                                                                                                                                                                                                                                                                                                                                                                                                                                                                                                                                                                                                                                                                                                                                                                                                                                                                                                                                                                                                                                                                                                                                                                                                                                                                                                                                                                                                                                                                                                                                                                                                                                                                                                                                                                                                                                                                                                                                                                                                                                                                                                                                             content  \\\n",
       "0                                                                                                                                                                                                                                                                                                                                                                                                                                                                                                                                                                                                                                                                                                                                                                                                                                                                                                                                                                                                                                                                                                                                                                                                                                                                                                                                                                                                                                                                                                                                                                                                                                                                                                                                                                                                                                                                                                                                                                                                                                                                                                                                                                                                                                         Welcome to /r/depression's check-in post - a place to take a moment and share what is going on and how you are doing. If you have an accomplishment you want to talk about (these shouldn't be standalone posts in the sub as they violate the \"role model\" rule, but are welcome here), or are having a tough time but prefer not to make your own post, this is a place you can share.\\n\\n-----\\n\\nOur subreddit rules are located in the sidebar (you can also always access them at https://www.reddit.com/r/depression/about/rules) - since all of them exist for important safety reasons, we ask everyone here to read and follow them. Please click 'report' on any harmful content you see here - we always want to know and deal as soon as we can.\\n\\nWe also have several wikis there for help with finding and giving support:\\n\\nhttps://www.reddit.com/r/depression/wiki/what_is_depression provides guidance about what is and isn't a depressive disorder, guidance on the complex nature of the illnesses that are usually grouped under the \"depression\" label, and redirect information for common off-topic issues.\\n\\nhttps://www.reddit.com/r/depression/wiki/giving_help offers information on the nature and value of peer support for mental-health issues in general, and lots of guidance for learning what is -- and isn't -- usually helpful in giving peer support.\\n\\nYSK that the types of rule violations that we most frequently see interfering with people getting safe and relevant support here are:\\n\\n- People breaking the private contact rule. You should never trust anyone who tries to get you into a private conversation in response to a post here. See https://www.reddit.com/r/depression/wiki/private_contact\\n\\n- \"I'm here to help\" posts. This shows that you don't understand the most basic principles of peer support, especially selectivity. The \"giving help\" wiki explains more about this.\\n\\n- Role modelling, i.e. \"achievement\" or \"advice\" posts. This is an expert-free zone -- that's what peer support means (rule 5). We know that \"internet culture\" celebrate not just bragging about your achievements but bragging about your good intentions. Nothing like that is ever acceptable here.\\n\\n- Content that's more about 'making a statement' or casually polling the sub than seeking personal support (or, in a comment, giving it) (rules 1, 2 and 10).\\n\\n- Off-topic posts about difficult situations or circumstances, including interpersonal losses. Grief, sadness, anger, and other difficult emotions are not mental illnesses. The \"what is depression\" wiki has suggestions for other places to post about these issues, which are 100% valid and serious but inappropriate here.   \n",
       "1  We understand that most people who reply immediately to an OP with an invitation to talk privately  mean only to help, but this type of response usually leads to either disappointment or disaster.  it usually works out quite differently here than when you say \"PM me anytime\" in a casual social context.  \\n\\nWe have huge admiration and appreciation for the goodwill and good citizenship of so many of you who support others here and flag inappropriate content - even more so because we know that so many of you are struggling yourselves.  We're hard at work behind the scenes on more information and resources to make it easier to give and get quality help here - this is just a small start.  \\n\\nOur new wiki page explains in detail why it's much better to respond in public comments, at least until you've gotten to know someone.  It will be maintained at /r/depression/wiki/private_contact, and the full text of the current version is below.\\n\\n*****\\n\\n###Summary###\\n\\n**Anyone who, while acting as a helper, invites or accepts private contact (I.e. PMs, chat, or any kind of offsite communication) early in the conversion is showing either bad intentions or bad judgement.  Either way, it's unwise to trust them.** \\n\\n\\n\"PM me anytime\" seems like a kind and generous offer. And it might be perfectly well-meaning, but, unless and until a solid rapport has been established, it's just not a wise idea.  Here are some points to consider before you offer or accept an invitation to communicate privately.\\n\\n* **By posting supportive replies publicly, you'll help more people than just the OP. If your responses are of good quality, you'll educate and inspire other helpers.** [The 1-9-90 rule](https://en.wikipedia.org/wiki/1%25_rule_(Internet_culture\\)) applies here as much as it does anywhere else on the internet.  \\n\\n* People who are struggling with serious mental-health issues often (justifiably) have a low tolerance for disappointment and a high-level of ever-changing emotional need. **Unless the helper is able to make a 100% commitment to be there for them in every way, for as long as necessary, offering a personal inbox as a resource is likely to do more harm than good.** This is why mental-health crisis-line responders usually don't give their names and callers aren't allowed to request specific responders.  It's much healthier and safer for the callers to develop a relationship with the agency as a whole.  Analogously, it's much safer and healthier for our OPs to develop a relationship with the community as a whole.  Even trained responders are generally not allowed to work high-intensity situations alone.  It's partly about availability, but it's mostly about wider perspective and preventing compassion fatigue. \\n\\n* **If a helper gets in over their head with someone whose mental-health issues (including suicidality, which is often comorbid with depression) escalate, in a PM conversation it's much harder for others, including the /r/depression and /r/SuicideWatch moderators to help**.  (Contrary to common assumptions, moderators can't see or police PMs.)  \\n\\n* In our observation over many years, the people who say \"PM me\" the most are consistently the ones with the least understanding of mental-health issues and mental-health support. We all have gaps in our knowledge and in our ability to communicate effectively.  Community input mitigates these limitations. **There's no reason why someone who's truly here to help would want to hide their responses from community scrutiny**.  If helpers are concerned about their own privacy, keep in mind that self-disclosure, when used supportively, is more about the feelings than the details, and that we have no problem here with the use of alt/throwaway accounts, and have no restrictions on account age or karma.  \\n\\n*  We all know the internet is used by some people to exploit or abuse others.  These people *do* want to hide their deceptive and manipulative responses from everyone except their victims. There are many of them who specifically target those who are vulnerable because of mental-health issues. **If a helper invites an OP to talk privately and gives them a good, supportive experience, they've primed that person to be more vulnerable to abusers.** This sort of cognitive priming tends to be particularly effective when someone's in a state of mental-health crisis, when people rely more on heuristics than critical reasoning.\\n\\n* If OPs want to talk privately, posting on a wide-open anonymous forum like reddit might not be the best option. Although we don't recommend it, we do allow OPs to request private contact when asking for support. If you want to do this, please keep your expectations realistic, and to have a careful look at the history of anyone who offers to PM before opening up to them.   \n",
       "2                                                                                                                                                                                                                                                                                                                                                                                                                                                                                                                                                                                                                                                                                                                                                                                                                                                                                                                                                                                                                                                                                                                                                                                                                                                                                                                                                                                                                                                                                                                                                                                                                                                                                                                                                                                                                                                                                                                                                                                                                                                                                                                                                                                                                                                                                                                                                                                                                                                                                                                                                                                                                                                                                                                                                                                                                                                                                                                                                                                                                                                                                                                                                                                                                                                                                                                                                                                                                                                                                                                                                                                                                                                                                                                                                                                                                                                                                                                                                                                                                                                                                                                                                                                                                                                                                                                                                                                                                                                                                                                 I've always wanted to go back to school, the cards never aligned. I had too many distractions or no transportation and grew fed up with the bus. This time I have my own car, I've been at my job for 2 years and they offer the flexibility to go back.\\n\\nI want to prove to myself that I can stick to it and not self sabotage. I ran into someone(and avoided like the plague) at disneyland and began to want change. It feels daunting but if I start with 2 classes I can work from there.   \n",
       "3                                                                                                                                                                                                                                                                                                                                                                                                                                                                                                                                                                                                                                                                                                                                                                                                                                                                                                                                                                                                                                                                                                                                                                                                                                                                                                                                                                                                                                                                                                                                                                                                                                                                                                                                                                                                                                                                                                                                                                                                                                                                                                                                                                                                                                                                                                                                                                                                                                                                                                                                                                                                                                                                                                                                                                                                                                                                                                                                                                                                                                                                                                                                                                                                                                                                                                                                                                                                                                                                                                                                                                                                                                                                                                                                                                                                                                                                                                                                                                                                                                                                                                                                                                                                                                                                                                                                                                                                                                                                                                                                                                                                                                                                                                                                                                                                                                                   All I wan is to be loved.  I just want someone to hug me and tell me  its gonna be ok. Just a little affection,  not too much. Instead I have nothing and noone.   \n",
       "4                                                                                                                                                                                                                                                                                                                                                                                                                                                                                                                                                                                                                                                                                                                                                                                                                                                                                                                                                                                                                                                                                                                                                                                                                                                                                                                                                                                                                                                                                                                                                                                                                                                                                                                                                                                                                                                                                                                                                                                                                                                                                                                                                                                                                                                                                                                                                                                                                                                                                                                                                                                                                                                                                                                                                                                                                                                                                                                                                                                                                                                                                                                                                                                                                                                                                                                                                                                                                                                                                                                                                                                                                                                                                                                                                                                                                                                                                                                                                                                                                                                                                                                                                                                                                                                                 I don’t even drive, didn’t finish my high school degree (can always get my GED though), can’t make it through college, can’t hold down a job. \\nI know this is gross but I can barely shower or brush my teeth. \\nWashing the dishes, cleaning the house, making my bed are almost impossible tasks. \\n\\nI’m so jealous of people that can do these things. I feel trapped and think of death often as the only way to escape this. \\nMaybe I should try therapy? \\nI don’t even know how to be an adult tbh. Like what is adulting? \\nI do want to be a nurse (or a PSW at first) in the future \\nI cannot leave my house unless I’m with my mom. I think this is due to bullying in school and now I just don’t want to be in the outside world.   \n",
       "\n",
       "   score  \n",
       "0    115  \n",
       "1   2365  \n",
       "2     84  \n",
       "3    108  \n",
       "4     60  "
      ]
     },
     "execution_count": 4,
     "metadata": {},
     "output_type": "execute_result"
    }
   ],
   "source": [
    "df_reddit = pd.read_csv(\"data/dataset.csv\")\n",
    "df_reddit.head()"
   ]
  },
  {
   "cell_type": "markdown",
   "metadata": {},
   "source": [
    "I'm going to clean the data by removing the post content, as the sentence length distribution is far too different to the data the model was trained on. The score of the publication is also unnecessary.\n",
    "\n",
    "In the future, I plan to use Cohere's `Summarize` to summarize the content of the post. I can then compare this data to the current dataset and to itself.\n",
    "\n",
    "I will also remove the first 2 posts as they are introduction posts to the subreddit /r/depression."
   ]
  },
  {
   "cell_type": "code",
   "execution_count": 5,
   "metadata": {},
   "outputs": [
    {
     "data": {
      "text/html": [
       "<div>\n",
       "<style scoped>\n",
       "    .dataframe tbody tr th:only-of-type {\n",
       "        vertical-align: middle;\n",
       "    }\n",
       "\n",
       "    .dataframe tbody tr th {\n",
       "        vertical-align: top;\n",
       "    }\n",
       "\n",
       "    .dataframe thead th {\n",
       "        text-align: right;\n",
       "    }\n",
       "</style>\n",
       "<table border=\"1\" class=\"dataframe\">\n",
       "  <thead>\n",
       "    <tr style=\"text-align: right;\">\n",
       "      <th></th>\n",
       "      <th>title</th>\n",
       "    </tr>\n",
       "  </thead>\n",
       "  <tbody>\n",
       "    <tr>\n",
       "      <th>0</th>\n",
       "      <td>Regular check-in post, with information about our rules and wikis</td>\n",
       "    </tr>\n",
       "    <tr>\n",
       "      <th>1</th>\n",
       "      <td>Our most-broken and least-understood rules is \"helpers may not invite private contact as a first resort\", so we've made a new wiki to explain it</td>\n",
       "    </tr>\n",
       "    <tr>\n",
       "      <th>2</th>\n",
       "      <td>Going back to college at 33 after 3 times of dropping out.</td>\n",
       "    </tr>\n",
       "    <tr>\n",
       "      <th>3</th>\n",
       "      <td>Crying alone all the time</td>\n",
       "    </tr>\n",
       "    <tr>\n",
       "      <th>4</th>\n",
       "      <td>I genuinely don’t think I’ll ever be able to handle all of the adult responsibilities I have.</td>\n",
       "    </tr>\n",
       "  </tbody>\n",
       "</table>\n",
       "</div>"
      ],
      "text/plain": [
       "                                                                                                                                              title\n",
       "0                                                                                 Regular check-in post, with information about our rules and wikis\n",
       "1  Our most-broken and least-understood rules is \"helpers may not invite private contact as a first resort\", so we've made a new wiki to explain it\n",
       "2                                                                                        Going back to college at 33 after 3 times of dropping out.\n",
       "3                                                                                                                         Crying alone all the time\n",
       "4                                                     I genuinely don’t think I’ll ever be able to handle all of the adult responsibilities I have."
      ]
     },
     "execution_count": 5,
     "metadata": {},
     "output_type": "execute_result"
    }
   ],
   "source": [
    "df_reddit = df_reddit.drop(['content', 'score'], axis=1)\n",
    "df_reddit.head()"
   ]
  },
  {
   "cell_type": "code",
   "execution_count": 6,
   "metadata": {},
   "outputs": [
    {
     "data": {
      "text/html": [
       "<div>\n",
       "<style scoped>\n",
       "    .dataframe tbody tr th:only-of-type {\n",
       "        vertical-align: middle;\n",
       "    }\n",
       "\n",
       "    .dataframe tbody tr th {\n",
       "        vertical-align: top;\n",
       "    }\n",
       "\n",
       "    .dataframe thead th {\n",
       "        text-align: right;\n",
       "    }\n",
       "</style>\n",
       "<table border=\"1\" class=\"dataframe\">\n",
       "  <thead>\n",
       "    <tr style=\"text-align: right;\">\n",
       "      <th></th>\n",
       "      <th>title</th>\n",
       "    </tr>\n",
       "  </thead>\n",
       "  <tbody>\n",
       "    <tr>\n",
       "      <th>2</th>\n",
       "      <td>Going back to college at 33 after 3 times of dropping out.</td>\n",
       "    </tr>\n",
       "    <tr>\n",
       "      <th>3</th>\n",
       "      <td>Crying alone all the time</td>\n",
       "    </tr>\n",
       "    <tr>\n",
       "      <th>4</th>\n",
       "      <td>I genuinely don’t think I’ll ever be able to handle all of the adult responsibilities I have.</td>\n",
       "    </tr>\n",
       "    <tr>\n",
       "      <th>5</th>\n",
       "      <td>I'm not depressed anymore yay</td>\n",
       "    </tr>\n",
       "    <tr>\n",
       "      <th>6</th>\n",
       "      <td>Ever since I started meds, everyone acts like I’m not allowed to have negative feelings.</td>\n",
       "    </tr>\n",
       "  </tbody>\n",
       "</table>\n",
       "</div>"
      ],
      "text/plain": [
       "                                                                                           title\n",
       "2                                     Going back to college at 33 after 3 times of dropping out.\n",
       "3                                                                      Crying alone all the time\n",
       "4  I genuinely don’t think I’ll ever be able to handle all of the adult responsibilities I have.\n",
       "5                                                                  I'm not depressed anymore yay\n",
       "6       Ever since I started meds, everyone acts like I’m not allowed to have negative feelings."
      ]
     },
     "execution_count": 6,
     "metadata": {},
     "output_type": "execute_result"
    }
   ],
   "source": [
    "df_reddit = df_reddit.drop([0, 1])\n",
    "df_reddit.head()"
   ]
  },
  {
   "cell_type": "markdown",
   "metadata": {},
   "source": [
    "Exploring the dataset, briefly, further"
   ]
  },
  {
   "cell_type": "code",
   "execution_count": 85,
   "metadata": {},
   "outputs": [
    {
     "data": {
      "text/html": [
       "<div>\n",
       "<style scoped>\n",
       "    .dataframe tbody tr th:only-of-type {\n",
       "        vertical-align: middle;\n",
       "    }\n",
       "\n",
       "    .dataframe tbody tr th {\n",
       "        vertical-align: top;\n",
       "    }\n",
       "\n",
       "    .dataframe thead th {\n",
       "        text-align: right;\n",
       "    }\n",
       "</style>\n",
       "<table border=\"1\" class=\"dataframe\">\n",
       "  <thead>\n",
       "    <tr style=\"text-align: right;\">\n",
       "      <th></th>\n",
       "      <th>title</th>\n",
       "    </tr>\n",
       "  </thead>\n",
       "  <tbody>\n",
       "    <tr>\n",
       "      <th>8224</th>\n",
       "      <td>hopeless. sorrowful. and lost.</td>\n",
       "    </tr>\n",
       "    <tr>\n",
       "      <th>10369</th>\n",
       "      <td>need to talk to someone..... saw someone that I have issues with.</td>\n",
       "    </tr>\n",
       "    <tr>\n",
       "      <th>425</th>\n",
       "      <td>I hate how life isn’t perfect</td>\n",
       "    </tr>\n",
       "    <tr>\n",
       "      <th>6375</th>\n",
       "      <td>STOP THE COMPETITVENESS</td>\n",
       "    </tr>\n",
       "    <tr>\n",
       "      <th>3242</th>\n",
       "      <td>damn I'm crying</td>\n",
       "    </tr>\n",
       "  </tbody>\n",
       "</table>\n",
       "</div>"
      ],
      "text/plain": [
       "                                                                   title\n",
       "8224                                      hopeless. sorrowful. and lost.\n",
       "10369  need to talk to someone..... saw someone that I have issues with.\n",
       "425                                        I hate how life isn’t perfect\n",
       "6375                                             STOP THE COMPETITVENESS\n",
       "3242                                                     damn I'm crying"
      ]
     },
     "execution_count": 85,
     "metadata": {},
     "output_type": "execute_result"
    }
   ],
   "source": [
    "df_reddit.sample(5)"
   ]
  },
  {
   "cell_type": "code",
   "execution_count": 86,
   "metadata": {},
   "outputs": [
    {
     "name": "stdout",
     "output_type": "stream",
     "text": [
      "<class 'pandas.core.frame.DataFrame'>\n",
      "RangeIndex: 12454 entries, 2 to 12455\n",
      "Data columns (total 1 columns):\n",
      " #   Column  Non-Null Count  Dtype \n",
      "---  ------  --------------  ----- \n",
      " 0   title   12454 non-null  object\n",
      "dtypes: object(1)\n",
      "memory usage: 97.4+ KB\n"
     ]
    }
   ],
   "source": [
    "df_reddit.info()"
   ]
  },
  {
   "cell_type": "code",
   "execution_count": 87,
   "metadata": {},
   "outputs": [
    {
     "data": {
      "text/html": [
       "<div>\n",
       "<style scoped>\n",
       "    .dataframe tbody tr th:only-of-type {\n",
       "        vertical-align: middle;\n",
       "    }\n",
       "\n",
       "    .dataframe tbody tr th {\n",
       "        vertical-align: top;\n",
       "    }\n",
       "\n",
       "    .dataframe thead th {\n",
       "        text-align: right;\n",
       "    }\n",
       "</style>\n",
       "<table border=\"1\" class=\"dataframe\">\n",
       "  <thead>\n",
       "    <tr style=\"text-align: right;\">\n",
       "      <th></th>\n",
       "      <th>title</th>\n",
       "    </tr>\n",
       "  </thead>\n",
       "  <tbody>\n",
       "    <tr>\n",
       "      <th>count</th>\n",
       "      <td>12454</td>\n",
       "    </tr>\n",
       "    <tr>\n",
       "      <th>unique</th>\n",
       "      <td>12099</td>\n",
       "    </tr>\n",
       "    <tr>\n",
       "      <th>top</th>\n",
       "      <td>I need help</td>\n",
       "    </tr>\n",
       "    <tr>\n",
       "      <th>freq</th>\n",
       "      <td>8</td>\n",
       "    </tr>\n",
       "  </tbody>\n",
       "</table>\n",
       "</div>"
      ],
      "text/plain": [
       "              title\n",
       "count         12454\n",
       "unique        12099\n",
       "top     I need help\n",
       "freq              8"
      ]
     },
     "execution_count": 87,
     "metadata": {},
     "output_type": "execute_result"
    }
   ],
   "source": [
    "# Some post titles are bound to be repeated, with some people sharing the same feelings\n",
    "# The emotions associated with frequent pieces of text can be analysed further to create relationships between certain keywords and emotions\n",
    "df_reddit.describe()"
   ]
  },
  {
   "cell_type": "code",
   "execution_count": 88,
   "metadata": {},
   "outputs": [
    {
     "data": {
      "text/plain": [
       "['Going back to college at 33 after 3 times of dropping out.']"
      ]
     },
     "execution_count": 88,
     "metadata": {},
     "output_type": "execute_result"
    }
   ],
   "source": [
    "# Prepping to create embeddings\n",
    "[list(df_reddit['title'])[0]]"
   ]
  },
  {
   "cell_type": "markdown",
   "metadata": {},
   "source": [
    "## Getting the embeddings"
   ]
  },
  {
   "cell_type": "code",
   "execution_count": 8,
   "metadata": {},
   "outputs": [],
   "source": [
    "api_key = \"\"\n",
    "\n",
    "co = cohere.Client(api_key)"
   ]
  },
  {
   "cell_type": "code",
   "execution_count": null,
   "metadata": {},
   "outputs": [],
   "source": [
    "chain_model = pickle.load(open('models/trained_emotion_classifier.pkl', 'rb'))\n",
    "\n",
    "# Using Cohere's powerful 'embed' method to be able to compute the text data\n",
    "# NOTE: only passed in one piece of text due to a limit on API calls\n",
    "text_embeddings = co.embed(texts=[list(df_reddit['title'])[0]],\n",
    "                           model='multilingual-22-12',\n",
    "                           truncate='RIGHT').embeddings\n",
    "\n",
    "# Executing the model to predict probabilities of emotions with predict_proba (method in scikit-learn that returns probabilities\n",
    "# using logistic regression since the trained classifier uses logistic regression)\n",
    "outputs = torch.as_tensor(chain_model.predict_proba(text_embeddings),\n",
    "                          dtype=torch.float32)\n",
    "\n",
    "# Sorts probability outputs associated with the text input where the strongest emotions are first\n",
    "probas, indices = torch.sort(outputs, descending=True)\n",
    "\n",
    "# The tensors are converted from GPU-based to CPU-based as NumPy operates on CPU\n",
    "probas = probas.cpu().numpy()[0]\n",
    "indices = indices.cpu().numpy()[0]"
   ]
  },
  {
   "cell_type": "code",
   "execution_count": 10,
   "metadata": {},
   "outputs": [
    {
     "name": "stdout",
     "output_type": "stream",
     "text": [
      "[0.5975665  0.39681658 0.26276317 0.1869488  0.10719531 0.10698901\n",
      " 0.09613472 0.02223289]\n",
      "[4 5 7 1 0 3 2 6]\n"
     ]
    }
   ],
   "source": [
    "# Probabilities associated with emotions\n",
    "# (numbers associated with emotions are shown below, from 0 - 7)\n",
    "print(probas)\n",
    "print(indices)"
   ]
  },
  {
   "cell_type": "code",
   "execution_count": 12,
   "metadata": {},
   "outputs": [
    {
     "data": {
      "text/plain": [
       "title             Going back to college at 33 after 3 times of dropping out.\n",
       "Anger                                                               0.107195\n",
       "Anticipation                                                        0.186949\n",
       "Disgust                                                             0.096135\n",
       "Fear                                                                0.106989\n",
       "Joy                                                                 0.597566\n",
       "Sadness                                                             0.396817\n",
       "Surprise                                                            0.022233\n",
       "Trust                                                               0.262763\n",
       "Top 3 Emotions                                         [Joy, Sadness, Trust]\n",
       "Name: 2, dtype: object"
      ]
     },
     "execution_count": 12,
     "metadata": {},
     "output_type": "execute_result"
    }
   ],
   "source": [
    "index_two = df_reddit.iloc[0]\n",
    "\n",
    "# Assigning text labels to the classified emotions and appending new emotion columns to the dataframe\n",
    "index_two['Anger'] = probas[numpy.where(indices == 0)[0][0]]\n",
    "index_two['Anticipation'] = probas[numpy.where(indices == 1)[0][0]]\n",
    "index_two['Disgust'] = probas[numpy.where(indices == 2)[0][0]]\n",
    "index_two['Fear'] = probas[numpy.where(indices == 3)[0][0]]\n",
    "index_two['Joy'] = probas[numpy.where(indices == 4)[0][0]]\n",
    "index_two['Sadness'] = probas[numpy.where(indices == 5)[0][0]]\n",
    "index_two['Surprise'] = probas[numpy.where(indices == 6)[0][0]]\n",
    "index_two['Trust'] = probas[numpy.where(indices == 7)[0][0]]\n",
    "\n",
    "index_two['Top 3 Emotions'] = [\"Joy\", \"Sadness\", \"Trust\"]\n",
    "\n",
    "index_two"
   ]
  },
  {
   "cell_type": "markdown",
   "metadata": {},
   "source": [
    "You don't need to carry out sentiment analysis to realise emotions felt throughout a depressive period isn't just sadness. Sentiment analysis can be both very important and useful, as well as redundant. Of-course, the topic of the inputs, the different emotion classifications in the training dataset, and source of text are examples of aspects that can change how useful sentiment analysis can be.\n",
    "\n",
    "In this example, the largest probability is associated with \"Joy\". An interesting point is that \"Sadness\" is the emotion associated with the second largest probability. I don't think that makes either emotion redundant.\n",
    "\n",
    "If I had the ability to be able to predict probabilities of emotions of all the datapoints, I would carry out some of the following statistical tests:\n",
    "- looking at relationships between emotions\n",
    "- looking at relationships between keywords and emotions\n",
    "\n",
    "In a study carried out on Twitter, it was found that users with depression exhibited distinct tweeting patterns (https://www.psypost.org/2021/12/an-analysis-of-twitter-posts-suggests-that-people-with-depression-show-increased-rumination-on-social-media-overnight-62306). These patterns can be explored in the texts and emotions exhibited in this dataset."
   ]
  }
 ],
 "metadata": {
  "kernelspec": {
   "display_name": "DataAnalysis",
   "language": "python",
   "name": "python3"
  },
  "language_info": {
   "codemirror_mode": {
    "name": "ipython",
    "version": 3
   },
   "file_extension": ".py",
   "mimetype": "text/x-python",
   "name": "python",
   "nbconvert_exporter": "python",
   "pygments_lexer": "ipython3",
   "version": "3.10.12"
  }
 },
 "nbformat": 4,
 "nbformat_minor": 2
}
